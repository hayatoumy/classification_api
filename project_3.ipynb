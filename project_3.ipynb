{
 "cells": [
  {
   "cell_type": "markdown",
   "metadata": {},
   "source": [
    "### Imports, and Primary Set-Up"
   ]
  },
  {
   "cell_type": "code",
   "execution_count": 24,
   "metadata": {},
   "outputs": [],
   "source": [
    "import requests\n",
    "import json\n",
    "import pandas as pd\n",
    "from time import sleep\n",
    "\n",
    "from sklearn.feature_extraction.text import CountVectorizer, TfidfVectorizer, ENGLISH_STOP_WORDS\n",
    "from sklearn.linear_model import LogisticRegression\n",
    "from sklearn.naive_bayes import MultinomialNB\n",
    "from sklearn.model_selection import GridSearchCV\n",
    "from sklearn.pipeline import Pipeline\n",
    "from sklearn.model_selection import train_test_split, cross_val_score\n",
    "from sklearn.metrics import confusion_matrix, classification_report, accuracy_score\n",
    "from sklearn.ensemble import RandomForestClassifier"
   ]
  },
  {
   "cell_type": "markdown",
   "metadata": {},
   "source": [
    "## Testing out the links:"
   ]
  },
  {
   "cell_type": "code",
   "execution_count": 415,
   "metadata": {},
   "outputs": [],
   "source": [
    "cook = 'https://api.pushshift.io/reddit/search/submission/?subreddit=cooking&size=100'\n",
    "nut = 'https://api.pushshift.io/reddit/search/submission/?subreddit=nutrition&size=100'\n",
    "\n",
    "res_cook = requests.get(cook)\n",
    "sleep(1)\n",
    "res_nut = requests.get(nut)"
   ]
  },
  {
   "cell_type": "code",
   "execution_count": 416,
   "metadata": {},
   "outputs": [
    {
     "name": "stdout",
     "output_type": "stream",
     "text": [
      "200\n",
      "200\n"
     ]
    }
   ],
   "source": [
    "# making sure both urls are fine\n",
    "print(res_cook.status_code)\n",
    "print(res_nut.status_code)"
   ]
  },
  {
   "cell_type": "code",
   "execution_count": 417,
   "metadata": {},
   "outputs": [],
   "source": [
    "# getting the dictionaries\n",
    "cook_dict = res_cook.json()\n",
    "nut_dict = res_nut.json()"
   ]
  },
  {
   "cell_type": "code",
   "execution_count": 418,
   "metadata": {},
   "outputs": [
    {
     "name": "stdout",
     "output_type": "stream",
     "text": [
      "dict_keys(['data'])\n",
      "dict_keys(['data'])\n"
     ]
    }
   ],
   "source": [
    "# examining the dictionaries:\n",
    "print(cook_dict.keys())\n",
    "print(nut_dict.keys())"
   ]
  },
  {
   "cell_type": "code",
   "execution_count": 419,
   "metadata": {},
   "outputs": [
    {
     "data": {
      "text/plain": [
       "100"
      ]
     },
     "execution_count": 419,
     "metadata": {},
     "output_type": "execute_result"
    }
   ],
   "source": [
    "## Exploring the dictionaries: \n",
    "cook_dict['data'][0]\n",
    "cook_dict['data'][0].keys()\n",
    "len(cook_dict['data'])"
   ]
  },
  {
   "cell_type": "code",
   "execution_count": 420,
   "metadata": {},
   "outputs": [
    {
     "data": {
      "text/plain": [
       "'Hello all,\\n\\nGrowing up in country NSW in a meat eating family I have not had a wide variety of fish in my life. I simply do not know what to experiment with. I have just learnt of the fish man who comes direct from the Sydney fish markets and am keen to try any suggestions! \\n\\nThank you in advance :)'"
      ]
     },
     "execution_count": 420,
     "metadata": {},
     "output_type": "execute_result"
    }
   ],
   "source": [
    "cook_dict['data'][5]['selftext']"
   ]
  },
  {
   "cell_type": "markdown",
   "metadata": {},
   "source": [
    "### Features and Target Variables\n",
    "Posts (data) are in `cook_dict['data'][i]['selftext`], and target variable (class) is `cook_dict['data'][i]['subreddit']`"
   ]
  },
  {
   "cell_type": "code",
   "execution_count": 421,
   "metadata": {},
   "outputs": [],
   "source": [
    "cook_data = []\n",
    "cook_target = []\n",
    "for i,_ in enumerate(cook_dict['data']):\n",
    "    if cook_dict['data'][i]['selftext'] !='':\n",
    "        cook_data.append(cook_dict['data'][i]['selftext'])\n",
    "        cook_target.append(cook_dict['data'][i]['subreddit'])\n",
    "cook = pd.DataFrame(zip(cook_data, cook_target), columns = ['post', 'topic'])"
   ]
  },
  {
   "cell_type": "code",
   "execution_count": 422,
   "metadata": {},
   "outputs": [],
   "source": [
    "nut_target = []\n",
    "for i,_ in enumerate(nut_dict['data']):\n",
    "    if nut_dict['data'][i]['selftext']!='':\n",
    "        nut_data.append(nut_dict['data'][i]['selftext'])\n",
    "        nut_target.append(nut_dict['data'][i]['subreddit'])\n",
    "nut = pd.DataFrame(zip(nut_data, nut_target), columns = ['post','topic'])"
   ]
  },
  {
   "cell_type": "code",
   "execution_count": 423,
   "metadata": {
    "scrolled": true
   },
   "outputs": [
    {
     "data": {
      "text/plain": [
       "(188, 2)"
      ]
     },
     "execution_count": 423,
     "metadata": {},
     "output_type": "execute_result"
    }
   ],
   "source": [
    "#merging the two dataframes together: \n",
    "df = pd.concat([cook, nut], axis = 0, sort = False)\n",
    "df.shape"
   ]
  },
  {
   "cell_type": "code",
   "execution_count": 424,
   "metadata": {},
   "outputs": [],
   "source": [
    "# more cleaning, dropping rows with '[removed]' posts \n",
    "removed_posts_indices = df.loc[df['post']=='[removed]', :].index\n",
    "df.drop(removed_posts_indices, inplace = True)"
   ]
  },
  {
   "cell_type": "markdown",
   "metadata": {},
   "source": [
    "## Collecting a 100 posts from 60 days ago till now, in reverse order: "
   ]
  },
  {
   "cell_type": "code",
   "execution_count": 425,
   "metadata": {},
   "outputs": [],
   "source": [
    "base_url_cook = 'https://api.pushshift.io/reddit/search/submission/?subreddit=cooking&size=100&before={}d'\n",
    "urls_cook = [base_url_cook.format(i) for i in range(60,-1,-1)] # generate the urls\n",
    "# the first -1 is the stopping point, coz range is exclusive to the endpoint. \n",
    "# the second -1 is to go in reverse on the range.\n",
    "base_url_nut = 'https://api.pushshift.io/reddit/search/submission/?subreddit=nutrition&size=100&before={}d'\n",
    "urls_nut = [base_url_nut.format(i) for i in range(60,-1,-1)]"
   ]
  },
  {
   "cell_type": "code",
   "execution_count": 426,
   "metadata": {},
   "outputs": [],
   "source": [
    "pages_cook = []\n",
    "for u in urls_cook:\n",
    "    sleep(1)\n",
    "    pages_cook.append(requests.get(u).json()['data'])"
   ]
  },
  {
   "cell_type": "code",
   "execution_count": 427,
   "metadata": {},
   "outputs": [],
   "source": [
    "pages_nut = []\n",
    "for u in urls_nut:\n",
    "    sleep(1)\n",
    "    pages_nut.append(requests.get(u).json()['data'])"
   ]
  },
  {
   "cell_type": "code",
   "execution_count": 428,
   "metadata": {},
   "outputs": [],
   "source": [
    "cook_data = []\n",
    "nut_data = []\n",
    "cook_target = []\n",
    "nut_target = []\n",
    "\n",
    "for p in pages_cook: \n",
    "    for post in p:\n",
    "        if post['selftext']!='':\n",
    "            cook_data.append(post['selftext'])\n",
    "            cook_target.append(post['subreddit'])"
   ]
  },
  {
   "cell_type": "code",
   "execution_count": 429,
   "metadata": {},
   "outputs": [],
   "source": [
    "for p in pages_nut:\n",
    "    count2 = 0\n",
    "    for post in p:\n",
    "        try: #because one post doesn't have a 'selftext'. nut_data stops at 116. therefore I need try/except\n",
    "            if post['selftext']!='':\n",
    "                nut_data.append(post['selftext'])\n",
    "                nut_target.append(post['subreddit'])\n",
    "        except: \n",
    "            nut_data.append('[removed]') # i want to add what I want to drop later on. some posts have '[removed]' in them\n",
    "            nut_target.append('nutrition')"
   ]
  },
  {
   "cell_type": "markdown",
   "metadata": {},
   "source": [
    "#### Making the each topic dataframe, then combining them into one dataframe"
   ]
  },
  {
   "cell_type": "code",
   "execution_count": 430,
   "metadata": {},
   "outputs": [],
   "source": [
    "cook = pd.DataFrame(zip(cook_data, cook_target), columns = ['post', 'topic'])\n",
    "cook.loc[cook['post']=='[removed]',:].index\n",
    "cook.drop(cook.loc[cook['post']=='[removed]',:].index, inplace = True)"
   ]
  },
  {
   "cell_type": "code",
   "execution_count": 431,
   "metadata": {},
   "outputs": [],
   "source": [
    "nut = pd.DataFrame(zip(nut_data, nut_target), columns = ['post', 'topic'])\n",
    "nut.loc[nut['post']=='[removed]',:].index\n",
    "nut.drop(nut.loc[nut['post']=='[removed]',:].index, inplace = True)"
   ]
  },
  {
   "cell_type": "code",
   "execution_count": 432,
   "metadata": {},
   "outputs": [
    {
     "name": "stdout",
     "output_type": "stream",
     "text": [
      "shape of the cleaned nutrition dataframe (4166, 2)\n",
      "shape of the cleaned cooking dataframe (4237, 2)\n"
     ]
    }
   ],
   "source": [
    "print(f'shape of the cleaned nutrition dataframe {nut.shape}')\n",
    "print(f'shape of the cleaned cooking dataframe {cook.shape}')"
   ]
  },
  {
   "cell_type": "code",
   "execution_count": 433,
   "metadata": {},
   "outputs": [],
   "source": [
    "#combining the dataframes\n",
    "df = pd.concat([cook, nut], axis = 0, sort = False)\n",
    "# saving it to a csv file\n",
    "df.to_csv('reddit_cook_nut.csv') "
   ]
  },
  {
   "cell_type": "markdown",
   "metadata": {},
   "source": [
    "#### Saving to csv file: "
   ]
  },
  {
   "cell_type": "code",
   "execution_count": 25,
   "metadata": {},
   "outputs": [
    {
     "name": "stdout",
     "output_type": "stream",
     "text": [
      "shape of the combined and ready dataframe (8403, 3)\n"
     ]
    }
   ],
   "source": [
    "df = pd.read_csv('reddit_cook_nut.csv') # so I don't have to request every time.\n",
    "print(f'shape of the combined and ready dataframe {df.shape}')"
   ]
  },
  {
   "cell_type": "markdown",
   "metadata": {},
   "source": [
    "## EDA"
   ]
  },
  {
   "cell_type": "code",
   "execution_count": 8,
   "metadata": {},
   "outputs": [
    {
     "data": {
      "text/plain": [
       "Cooking      4237\n",
       "nutrition    4166\n",
       "Name: topic, dtype: int64"
      ]
     },
     "execution_count": 8,
     "metadata": {},
     "output_type": "execute_result"
    }
   ],
   "source": [
    "df['topic'].value_counts() # nutrition class will be considered 1, and cooking 0"
   ]
  },
  {
   "cell_type": "code",
   "execution_count": 68,
   "metadata": {},
   "outputs": [
    {
     "data": {
      "image/png": "[encoded data removed]",
      "text/plain": [
       "<Figure size 576x576 with 1 Axes>"
      ]
     },
     "metadata": {
      "needs_background": "light"
     },
     "output_type": "display_data"
    }
   ],
   "source": [
    "# plotting most repeated words, excluding non-relevant\n",
    "import matplotlib.pyplot as plt\n",
    "%matplotlib inline \n",
    "\n",
    "more_stop = ['just', 'com', 'https', 'know', 'want', 'www', 've','x200b', 'really', 'like'] \n",
    "custom_words = list(ENGLISH_STOP_WORDS) + more_stop\n",
    "\n",
    "cv = CountVectorizer(stop_words = custom_words) # ngram_range = (1,2) means i want both 1 and 2 words columns\n",
    "sparse_mat = cv.fit_transform(df['post']) #fitting the model\n",
    "\n",
    "all_feature_df = pd.DataFrame(sparse_mat.todense(), columns=cv.get_feature_names()) #attaching column names ie. words\n",
    "\n",
    "all_feature_df.sum().sort_values(ascending=False).head(20).plot(kind='barh', figsize = (8,8));\n",
    "# remember, these are the lammatized words...\n",
    "\n",
    "common_words_indicies = all_feature_df.sum().sort_values(ascending=False).head(20).index\n",
    "# we need the indices because that's what .loc is looking for (or a boolean mask) when I use it below"
   ]
  },
  {
   "cell_type": "markdown",
   "metadata": {},
   "source": [
    "### Most Frequent Words By Topic"
   ]
  },
  {
   "cell_type": "code",
   "execution_count": 55,
   "metadata": {},
   "outputs": [],
   "source": [
    "# making a sparse matrix of the words\n",
    "cv = CountVectorizer(stop_words = custom_words)\n",
    "X_train_cv = cv.fit_transform(X_train) # this is the sparse matrix\n",
    "# making this sparse matrix into a dataframe\n",
    "sparse = pd.DataFrame(X_train_cv.todense(), columns=cv.get_feature_names())"
   ]
  },
  {
   "cell_type": "code",
   "execution_count": 56,
   "metadata": {},
   "outputs": [
    {
     "data": {
      "text/plain": [
       "(6302, 17931)"
      ]
     },
     "execution_count": 56,
     "metadata": {},
     "output_type": "execute_result"
    }
   ],
   "source": [
    "sparse.shape"
   ]
  },
  {
   "cell_type": "code",
   "execution_count": 57,
   "metadata": {},
   "outputs": [],
   "source": [
    "df_nutrition = sparse.loc[df['topic'] == 'nutrition'].copy()\n",
    "df_cooking = sparse.loc[df['topic'] == 'Cooking'].copy()"
   ]
  },
  {
   "cell_type": "code",
   "execution_count": 58,
   "metadata": {},
   "outputs": [
    {
     "name": "stdout",
     "output_type": "stream",
     "text": [
      "(2065, 17931) (4237, 17931)\n"
     ]
    }
   ],
   "source": [
    "print(df_nutrition.shape, df_cooking.shape)"
   ]
  },
  {
   "cell_type": "code",
   "execution_count": 110,
   "metadata": {},
   "outputs": [
    {
     "data": {
      "image/png": "[encoded data removed]",
      "text/plain": [
       "<Figure size 720x576 with 2 Axes>"
      ]
     },
     "metadata": {
      "needs_background": "light"
     },
     "output_type": "display_data"
    }
   ],
   "source": [
    "fig, ax = plt.subplots(nrows = 1, ncols = 2, figsize = (10,8), sharex=True) #last argument to set same scale for x\n",
    "\n",
    "df_nutrition.sum().loc[common_words_indicies].plot(kind = 'barh',\n",
    "                                          ax = ax[0], title = 'common words in relation to Nutrition posts'.title());\n",
    "df_cooking.sum().loc[common_words_indicies].plot(kind = 'barh', ax= ax[1], \n",
    "                                        title = 'common words in relation to cooking posts'.title());"
   ]
  },
  {
   "cell_type": "markdown",
   "metadata": {},
   "source": [
    "## The Modeling:"
   ]
  },
  {
   "cell_type": "code",
   "execution_count": 9,
   "metadata": {},
   "outputs": [],
   "source": [
    "# Train/test/split\n",
    "X_train, X_test, y_train, y_test  = train_test_split(df['post'], df['topic'], \n",
    "                                                     stratify = df['topic'], random_state = 42)"
   ]
  },
  {
   "cell_type": "markdown",
   "metadata": {},
   "source": [
    "### Creating models and Pipes & GridSearching on each & fitting & finding best score:"
   ]
  },
  {
   "cell_type": "code",
   "execution_count": 438,
   "metadata": {},
   "outputs": [
    {
     "name": "stderr",
     "output_type": "stream",
     "text": [
      "/anaconda3/lib/python3.6/site-packages/sklearn/linear_model/logistic.py:433: FutureWarning: Default solver will be changed to 'lbfgs' in 0.22. Specify a solver to silence this warning.\n",
      "  FutureWarning)\n"
     ]
    },
    {
     "data": {
      "text/plain": [
       "GridSearchCV(cv=5, error_score='raise-deprecating',\n",
       "       estimator=Pipeline(memory=None,\n",
       "     steps=[('vector', CountVectorizer(analyzer='word', binary=False, decode_error='strict',\n",
       "        dtype=<class 'numpy.int64'>, encoding='utf-8', input='content',\n",
       "        lowercase=True, max_df=1.0, max_features=None, min_df=1,\n",
       "        ngram_range=(1, 1), preprocessor=None, stop_words=None,\n",
       "        str...penalty='l2', random_state=None, solver='warn',\n",
       "          tol=0.0001, verbose=0, warm_start=False))]),\n",
       "       fit_params=None, iid='warn', n_jobs=None,\n",
       "       param_grid={'vector__min_df': [3, 4, 8], 'vector__stop_words': [['the', 'although', 'whereas', 'their', 'another', 'since', 'at', 'further', 'cant', 'too', 'via', 'what', 'being', 'ever', 'side', 'both', 'whence', 'yourself', 'whole', 'above', 'own', 'same', 'three', 'with', 'because', 'de', 'fifty'...'ve', 'x200b', 'really', 'like'], None], 'logreg__penalty': ['l1', 'l2'], 'logreg__C': [0.1, 5, 50]},\n",
       "       pre_dispatch='2*n_jobs', refit=True, return_train_score='warn',\n",
       "       scoring=None, verbose=0)"
      ]
     },
     "execution_count": 438,
     "metadata": {},
     "output_type": "execute_result"
    }
   ],
   "source": [
    "cv_log_pipe = Pipeline([('vector', CountVectorizer()), ('logreg', LogisticRegression())])\n",
    "cv_log_params = {\n",
    "    'vector__min_df' : [3,4,8],\n",
    "    'vector__stop_words' : [custom_words, None],\n",
    "    'logreg__penalty' : ['l1', 'l2'],\n",
    "    'logreg__C' : [.1, 5, 50]\n",
    "}\n",
    "cv_log_gs = GridSearchCV(cv_log_pipe, cv_log_params, cv = 5, verbose=0)\n",
    "cv_log_gs.fit(X_train, y_train)"
   ]
  },
  {
   "cell_type": "code",
   "execution_count": 439,
   "metadata": {},
   "outputs": [
    {
     "data": {
      "text/plain": [
       "GridSearchCV(cv=5, error_score='raise-deprecating',\n",
       "       estimator=Pipeline(memory=None,\n",
       "     steps=[('vector', CountVectorizer(analyzer='word', binary=False, decode_error='strict',\n",
       "        dtype=<class 'numpy.int64'>, encoding='utf-8', input='content',\n",
       "        lowercase=True, max_df=1.0, max_features=None, min_df=1,\n",
       "        ngram_range=(1, 1), preprocess...zer=None, vocabulary=None)), ('naive', MultinomialNB(alpha=1.0, class_prior=None, fit_prior=True))]),\n",
       "       fit_params=None, iid='warn', n_jobs=None,\n",
       "       param_grid={'vector__min_df': [3, 4, 8], 'vector__stop_words': [['the', 'although', 'whereas', 'their', 'another', 'since', 'at', 'further', 'cant', 'too', 'via', 'what', 'being', 'ever', 'side', 'both', 'whence', 'yourself', 'whole', 'above', 'own', 'same', 'three', 'with', 'because', 'de', 'fifty'...want', 'www', 've', 'x200b', 'really', 'like'], None], 'naive__alpha': [0.001, 0.01, 0.1, 0.5, 0.8]},\n",
       "       pre_dispatch='2*n_jobs', refit=True, return_train_score='warn',\n",
       "       scoring=None, verbose=0)"
      ]
     },
     "execution_count": 439,
     "metadata": {},
     "output_type": "execute_result"
    }
   ],
   "source": [
    "cv_nb_pipe = Pipeline([('vector', CountVectorizer()) , ('naive', MultinomialNB())])\n",
    "cv_nb_params = {\n",
    "    'vector__min_df' : [3,4,8],\n",
    "    'vector__stop_words' : [custom_words, None],\n",
    "    'naive__alpha' : [0.001, 0.01, 0.1, 0.5, 0.8]\n",
    "}\n",
    "cv_nb_gs = GridSearchCV(cv_nb_pipe, cv_nb_params, cv = 5, verbose=0)\n",
    "cv_nb_gs.fit(X_train, y_train)"
   ]
  },
  {
   "cell_type": "code",
   "execution_count": 12,
   "metadata": {},
   "outputs": [
    {
     "name": "stderr",
     "output_type": "stream",
     "text": [
      "/anaconda3/lib/python3.6/site-packages/sklearn/linear_model/logistic.py:433: FutureWarning: Default solver will be changed to 'lbfgs' in 0.22. Specify a solver to silence this warning.\n",
      "  FutureWarning)\n"
     ]
    },
    {
     "data": {
      "text/plain": [
       "GridSearchCV(cv=5, error_score='raise-deprecating',\n",
       "       estimator=Pipeline(memory=None,\n",
       "     steps=[('tfdf', TfidfVectorizer(analyzer='word', binary=False, decode_error='strict',\n",
       "        dtype=<class 'numpy.float64'>, encoding='utf-8', input='content',\n",
       "        lowercase=True, max_df=1.0, max_features=None, min_df=1,\n",
       "        ngram_range=(1, 1), norm='l2', preprocessor=None, smooth_idf=True,\n",
       "...penalty='l2', random_state=None, solver='warn',\n",
       "          tol=0.0001, verbose=0, warm_start=False))]),\n",
       "       fit_params=None, iid='warn', n_jobs=None,\n",
       "       param_grid={'tfdf__stop_words': [['thereafter', 're', 'several', 'before', 'fifty', 'with', 'other', 'onto', 'thru', 'for', 'interest', 'rather', 'all', 'latter', 'part', 'whereby', 'thereupon', 'on', 'around', 'yours', 'since', 'mine', 'hereupon', 'ours', 'whole', 'almost', 'your', 'front', 'hasnt'...'ve', 'x200b', 'really', 'like'], None], 'logreg__penalty': ['l1', 'l2'], 'logreg__C': [0.1, 5, 50]},\n",
       "       pre_dispatch='2*n_jobs', refit=True, return_train_score='warn',\n",
       "       scoring=None, verbose=0)"
      ]
     },
     "execution_count": 12,
     "metadata": {},
     "output_type": "execute_result"
    }
   ],
   "source": [
    "tf_log_pipe = Pipeline([('tfdf', TfidfVectorizer()),('logreg', LogisticRegression())])\n",
    "tf_log_params = {\n",
    "    'tfdf__stop_words' : [custom_words, None],\n",
    "    'logreg__penalty' : ['l1', 'l2'],\n",
    "    'logreg__C' : [.1, 5, 50]\n",
    "}\n",
    "tf_log_gs = GridSearchCV(tf_log_pipe, tf_log_params, cv = 5, verbose=0)\n",
    "tf_log_gs.fit(X_train, y_train)"
   ]
  },
  {
   "cell_type": "code",
   "execution_count": 13,
   "metadata": {},
   "outputs": [
    {
     "data": {
      "text/plain": [
       "GridSearchCV(cv=5, error_score='raise-deprecating',\n",
       "       estimator=Pipeline(memory=None,\n",
       "     steps=[('tfdf', TfidfVectorizer(analyzer='word', binary=False, decode_error='strict',\n",
       "        dtype=<class 'numpy.float64'>, encoding='utf-8', input='content',\n",
       "        lowercase=True, max_df=1.0, max_features=None, min_df=1,\n",
       "        ngram_range=(1, 1), norm='l2', preprocessor=None, smooth_idf=True,\n",
       "...e,\n",
       "        vocabulary=None)), ('naive', MultinomialNB(alpha=1.0, class_prior=None, fit_prior=True))]),\n",
       "       fit_params=None, iid='warn', n_jobs=None,\n",
       "       param_grid={'tfdf__stop_words': [['thereafter', 're', 'several', 'before', 'fifty', 'with', 'other', 'onto', 'thru', 'for', 'interest', 'rather', 'all', 'latter', 'part', 'whereby', 'thereupon', 'on', 'around', 'yours', 'since', 'mine', 'hereupon', 'ours', 'whole', 'almost', 'your', 'front', 'hasnt'...want', 'www', 've', 'x200b', 'really', 'like'], None], 'naive__alpha': [0.001, 0.01, 0.1, 0.5, 0.8]},\n",
       "       pre_dispatch='2*n_jobs', refit=True, return_train_score='warn',\n",
       "       scoring=None, verbose=0)"
      ]
     },
     "execution_count": 13,
     "metadata": {},
     "output_type": "execute_result"
    }
   ],
   "source": [
    "tf_nb_pipe = Pipeline([('tfdf', TfidfVectorizer()),('naive', MultinomialNB())])\n",
    "tf_nb_params = {\n",
    "    'tfdf__stop_words' : [custom_words, None],\n",
    "    'naive__alpha' : [0.001, 0.01, 0.1, 0.5, 0.8]\n",
    "}\n",
    "tf_nb_gs = GridSearchCV(tf_nb_pipe, tf_nb_params, cv = 5, verbose=0)\n",
    "tf_nb_gs.fit(X_train, y_train)"
   ]
  },
  {
   "cell_type": "code",
   "execution_count": 14,
   "metadata": {},
   "outputs": [],
   "source": [
    "## Random Forest Model\n",
    "cv = CountVectorizer(stop_words = custom_words)\n",
    "X_train_cv = cv.fit_transform(X_train)"
   ]
  },
  {
   "cell_type": "code",
   "execution_count": 450,
   "metadata": {},
   "outputs": [
    {
     "data": {
      "text/plain": [
       "GridSearchCV(cv=5, error_score='raise-deprecating',\n",
       "       estimator=RandomForestClassifier(bootstrap=True, class_weight=None, criterion='gini',\n",
       "            max_depth=None, max_features='auto', max_leaf_nodes=None,\n",
       "            min_impurity_decrease=0.0, min_impurity_split=None,\n",
       "            min_samples_leaf=1, min_samples_split=2,\n",
       "            min_weight_fraction_leaf=0.0, n_estimators='warn', n_jobs=None,\n",
       "            oob_score=False, random_state=None, verbose=0,\n",
       "            warm_start=False),\n",
       "       fit_params=None, iid='warn', n_jobs=None,\n",
       "       param_grid={'n_estimators': [5, 10, 15, 20], 'max_depth': [10, 20, 30], 'max_features': [0.2, 0.3]},\n",
       "       pre_dispatch='2*n_jobs', refit=True, return_train_score='warn',\n",
       "       scoring=None, verbose=0)"
      ]
     },
     "execution_count": 450,
     "metadata": {},
     "output_type": "execute_result"
    }
   ],
   "source": [
    "forest = RandomForestClassifier()\n",
    "forest_params = {\n",
    "    'n_estimators' : [5, 10, 15, 20],\n",
    "    'max_depth' : [10, 20, 30],\n",
    "    'max_features' : [.2, .3]\n",
    "}\n",
    "gs_forest = GridSearchCV(forest, param_grid = forest_params, cv = 5)\n",
    "gs_forest.fit(X_train_cv, y_train)"
   ]
  },
  {
   "cell_type": "markdown",
   "metadata": {},
   "source": [
    "#### printing best scores of each model for comparison:"
   ]
  },
  {
   "cell_type": "code",
   "execution_count": 451,
   "metadata": {},
   "outputs": [
    {
     "name": "stdout",
     "output_type": "stream",
     "text": [
      "best score of random foresets is:  0.9129\n",
      "best score of CountVectorizer with Logistic Regression is: 0.9586\n",
      "best score of CountVectorizer with naive multinomial Bayes is: 0.946\n",
      "best score of TFDIF with Logistic Regression is: 0.9694\n",
      "best score of TFDIF with naive multinomial Bayes is: 0.9606\n"
     ]
    }
   ],
   "source": [
    "print('best score of random foresets is: ',gs_forest.best_score_.round(4))\n",
    "print('best score of CountVectorizer with Logistic Regression is:', cv_log_gs.best_score_.round(4))\n",
    "print('best score of CountVectorizer with naive multinomial Bayes is:', cv_nb_gs.best_score_.round(4))\n",
    "print('best score of TFDIF with Logistic Regression is:', tf_log_gs.best_score_.round(4))\n",
    "print('best score of TFDIF with naive multinomial Bayes is:', tf_nb_gs.best_score_.round(4))"
   ]
  },
  {
   "cell_type": "code",
   "execution_count": 23,
   "metadata": {},
   "outputs": [
    {
     "name": "stdout",
     "output_type": "stream",
     "text": [
      "[('tfdf', TfidfVectorizer(analyzer='word', binary=False, decode_error='strict',\n",
      "        dtype=<class 'numpy.float64'>, encoding='utf-8', input='content',\n",
      "        lowercase=True, max_df=1.0, max_features=None, min_df=1,\n",
      "        ngram_range=(1, 1), norm='l2', preprocessor=None, smooth_idf=True,\n",
      "        stop_words=['thereafter', 're', 'several', 'before', 'fifty', 'with', 'other', 'onto', 'thru', 'for', 'interest', 'rather', 'all', 'latter', 'part', 'whereby', 'thereupon', 'on', 'around', 'yours', 'since', 'mine', 'hereupon', 'ours', 'whole', 'almost', 'your', 'front', 'hasnt', 'them', 'together', ...'to', 'any', 'down', 'just', 'com', 'https', 'know', 'want', 'www', 've', 'x200b', 'really', 'like'],\n",
      "        strip_accents=None, sublinear_tf=False,\n",
      "        token_pattern='(?u)\\\\b\\\\w\\\\w+\\\\b', tokenizer=None, use_idf=True,\n",
      "        vocabulary=None)), ('logreg', LogisticRegression(C=50, class_weight=None, dual=False, fit_intercept=True,\n",
      "          intercept_scaling=1, max_iter=100, multi_class='warn',\n",
      "          n_jobs=None, penalty='l2', random_state=None, solver='warn',\n",
      "          tol=0.0001, verbose=0, warm_start=False))]\n"
     ]
    }
   ],
   "source": [
    "## the winner is TFDIF with Logistic Regression, so we're gonna fit that one\n",
    "# fininding best estimators of the winning model to use them: \n",
    "print(tf_log_gs.best_estimator_.get_params()['steps'])"
   ]
  },
  {
   "cell_type": "markdown",
   "metadata": {},
   "source": [
    "#### fitting the winning model and vectorizer:"
   ]
  },
  {
   "cell_type": "code",
   "execution_count": 454,
   "metadata": {},
   "outputs": [
    {
     "name": "stdout",
     "output_type": "stream",
     "text": [
      "(6302, 17931)\n"
     ]
    }
   ],
   "source": [
    "tf = TfidfVectorizer(stop_words = custom_words)\n",
    "\n",
    "X_train_tf = tf.fit_transform(X_train)\n",
    "X_test_tf = tf.transform(X_test)\n",
    "print(X_train_tf.shape)"
   ]
  },
  {
   "cell_type": "code",
   "execution_count": 455,
   "metadata": {},
   "outputs": [
    {
     "name": "stderr",
     "output_type": "stream",
     "text": [
      "/anaconda3/lib/python3.6/site-packages/sklearn/linear_model/logistic.py:433: FutureWarning: Default solver will be changed to 'lbfgs' in 0.22. Specify a solver to silence this warning.\n",
      "  FutureWarning)\n"
     ]
    }
   ],
   "source": [
    "logreg = LogisticRegression(C = 50, penalty = 'l2') #l2 is Ridge (google: 'l1 ridge or lasso?')\n",
    "logreg.fit(X_train_tf, y_train)\n",
    "preds = logreg.predict(X_test_tf)"
   ]
  },
  {
   "cell_type": "code",
   "execution_count": 456,
   "metadata": {},
   "outputs": [
    {
     "name": "stdout",
     "output_type": "stream",
     "text": [
      "accuracy score of TFDIF and Logistic on testing data:  0.9805\n"
     ]
    },
    {
     "name": "stderr",
     "output_type": "stream",
     "text": [
      "/anaconda3/lib/python3.6/site-packages/sklearn/linear_model/logistic.py:433: FutureWarning: Default solver will be changed to 'lbfgs' in 0.22. Specify a solver to silence this warning.\n",
      "  FutureWarning)\n"
     ]
    },
    {
     "name": "stdout",
     "output_type": "stream",
     "text": [
      "cross-validation score is:  0.9689\n"
     ]
    }
   ],
   "source": [
    "print('accuracy score of TFDIF and Logistic on testing data: ', logreg.score(X_test_tf, y_test).round(4))\n",
    "print('cross-validation score is: ', \\\n",
    "    cross_val_score(logreg, X_train_tf, y_train, cv = 5).mean().round(4)) \n",
    "#this cross-val score is how we expect the model to perform on unseen data"
   ]
  },
  {
   "cell_type": "code",
   "execution_count": 523,
   "metadata": {},
   "outputs": [
    {
     "name": "stdout",
     "output_type": "stream",
     "text": [
      "on training set, score is:  0.999\n",
      "on testing set, score is:  0.9805\n"
     ]
    }
   ],
   "source": [
    "# extra making sure it's not overfitting, by scoring it on train and test dataset\n",
    "print('on training set, score is: ', tf_log_gs.score(X_train, y_train).round(4))\n",
    "print('on testing set, score is: ', tf_log_gs.score(X_test, y_test).round(4))"
   ]
  },
  {
   "cell_type": "markdown",
   "metadata": {},
   "source": [
    "### getting confusion matrix & classification report"
   ]
  },
  {
   "cell_type": "code",
   "execution_count": 457,
   "metadata": {},
   "outputs": [
    {
     "name": "stdout",
     "output_type": "stream",
     "text": [
      "classification report               precision    recall  f1-score   support\n",
      "\n",
      "     Cooking       0.99      0.97      0.98      1059\n",
      "   nutrition       0.97      0.99      0.98      1042\n",
      "\n",
      "   micro avg       0.98      0.98      0.98      2101\n",
      "   macro avg       0.98      0.98      0.98      2101\n",
      "weighted avg       0.98      0.98      0.98      2101\n",
      "\n"
     ]
    }
   ],
   "source": [
    "confusion_matrix(y_test, preds)\n",
    "print('classification report', classification_report(y_test, preds))"
   ]
  },
  {
   "cell_type": "code",
   "execution_count": 458,
   "metadata": {},
   "outputs": [
    {
     "data": {
      "text/html": [
       "<div>\n",
       "<style scoped>\n",
       "    .dataframe tbody tr th:only-of-type {\n",
       "        vertical-align: middle;\n",
       "    }\n",
       "\n",
       "    .dataframe tbody tr th {\n",
       "        vertical-align: top;\n",
       "    }\n",
       "\n",
       "    .dataframe thead th {\n",
       "        text-align: right;\n",
       "    }\n",
       "</style>\n",
       "<table border=\"1\" class=\"dataframe\">\n",
       "  <thead>\n",
       "    <tr style=\"text-align: right;\">\n",
       "      <th></th>\n",
       "      <th>Predicted Cooking</th>\n",
       "      <th>Predicted nutrition</th>\n",
       "    </tr>\n",
       "  </thead>\n",
       "  <tbody>\n",
       "    <tr>\n",
       "      <th>Actual Cooking</th>\n",
       "      <td>1029</td>\n",
       "      <td>30</td>\n",
       "    </tr>\n",
       "    <tr>\n",
       "      <th>Actual nutrition</th>\n",
       "      <td>11</td>\n",
       "      <td>1031</td>\n",
       "    </tr>\n",
       "  </tbody>\n",
       "</table>\n",
       "</div>"
      ],
      "text/plain": [
       "                  Predicted Cooking  Predicted nutrition\n",
       "Actual Cooking                 1029                   30\n",
       "Actual nutrition                 11                 1031"
      ]
     },
     "execution_count": 458,
     "metadata": {},
     "output_type": "execute_result"
    }
   ],
   "source": [
    "# to make confusion matrix look nicer: \n",
    "col_names = ['Predicted ' + i for i in df['topic'].value_counts().index]\n",
    "index_names = ['Actual ' + i for i in df['topic'].value_counts().index]\n",
    "cm = pd.DataFrame(confusion_matrix(y_test, preds), columns = col_names, index = index_names )\n",
    "cm"
   ]
  },
  {
   "cell_type": "markdown",
   "metadata": {},
   "source": [
    "### getting coefficients of the winning model and plotting them:"
   ]
  },
  {
   "cell_type": "code",
   "execution_count": 459,
   "metadata": {},
   "outputs": [
    {
     "data": {
      "text/plain": [
       "array([[-1.15855269e-01,  8.34834760e-01, -4.35515088e-02, ...,\n",
       "         1.42242828e-06, -7.21437624e-04, -1.73116669e-04]])"
      ]
     },
     "execution_count": 459,
     "metadata": {},
     "output_type": "execute_result"
    }
   ],
   "source": [
    "tf_log_gs.best_estimator_.steps[1][1].coef_ # same as logreg.coef_ "
   ]
  },
  {
   "cell_type": "code",
   "execution_count": 460,
   "metadata": {},
   "outputs": [
    {
     "data": {
      "text/html": [
       "<div>\n",
       "<style scoped>\n",
       "    .dataframe tbody tr th:only-of-type {\n",
       "        vertical-align: middle;\n",
       "    }\n",
       "\n",
       "    .dataframe tbody tr th {\n",
       "        vertical-align: top;\n",
       "    }\n",
       "\n",
       "    .dataframe thead th {\n",
       "        text-align: right;\n",
       "    }\n",
       "</style>\n",
       "<table border=\"1\" class=\"dataframe\">\n",
       "  <thead>\n",
       "    <tr style=\"text-align: right;\">\n",
       "      <th></th>\n",
       "      <th>0</th>\n",
       "      <th>abs</th>\n",
       "    </tr>\n",
       "  </thead>\n",
       "  <tbody>\n",
       "    <tr>\n",
       "      <th>cooking</th>\n",
       "      <td>-11.332207</td>\n",
       "      <td>11.332207</td>\n",
       "    </tr>\n",
       "    <tr>\n",
       "      <th>recipe</th>\n",
       "      <td>-10.476970</td>\n",
       "      <td>10.476970</td>\n",
       "    </tr>\n",
       "    <tr>\n",
       "      <th>recipes</th>\n",
       "      <td>-9.701914</td>\n",
       "      <td>9.701914</td>\n",
       "    </tr>\n",
       "    <tr>\n",
       "      <th>make</th>\n",
       "      <td>-8.160371</td>\n",
       "      <td>8.160371</td>\n",
       "    </tr>\n",
       "    <tr>\n",
       "      <th>dish</th>\n",
       "      <td>-7.683484</td>\n",
       "      <td>7.683484</td>\n",
       "    </tr>\n",
       "    <tr>\n",
       "      <th>making</th>\n",
       "      <td>-7.438412</td>\n",
       "      <td>7.438412</td>\n",
       "    </tr>\n",
       "    <tr>\n",
       "      <th>imgur</th>\n",
       "      <td>-6.572811</td>\n",
       "      <td>6.572811</td>\n",
       "    </tr>\n",
       "    <tr>\n",
       "      <th>use</th>\n",
       "      <td>-6.431580</td>\n",
       "      <td>6.431580</td>\n",
       "    </tr>\n",
       "    <tr>\n",
       "      <th>ideas</th>\n",
       "      <td>-6.352363</td>\n",
       "      <td>6.352363</td>\n",
       "    </tr>\n",
       "    <tr>\n",
       "      <th>delicious</th>\n",
       "      <td>-5.801782</td>\n",
       "      <td>5.801782</td>\n",
       "    </tr>\n",
       "    <tr>\n",
       "      <th>favorite</th>\n",
       "      <td>-5.504622</td>\n",
       "      <td>5.504622</td>\n",
       "    </tr>\n",
       "    <tr>\n",
       "      <th>chef</th>\n",
       "      <td>-5.313138</td>\n",
       "      <td>5.313138</td>\n",
       "    </tr>\n",
       "    <tr>\n",
       "      <th>heat</th>\n",
       "      <td>-5.254714</td>\n",
       "      <td>5.254714</td>\n",
       "    </tr>\n",
       "    <tr>\n",
       "      <th>onions</th>\n",
       "      <td>-5.164636</td>\n",
       "      <td>5.164636</td>\n",
       "    </tr>\n",
       "    <tr>\n",
       "      <th>great</th>\n",
       "      <td>-5.104719</td>\n",
       "      <td>5.104719</td>\n",
       "    </tr>\n",
       "  </tbody>\n",
       "</table>\n",
       "</div>"
      ],
      "text/plain": [
       "                   0        abs\n",
       "cooking   -11.332207  11.332207\n",
       "recipe    -10.476970  10.476970\n",
       "recipes    -9.701914   9.701914\n",
       "make       -8.160371   8.160371\n",
       "dish       -7.683484   7.683484\n",
       "making     -7.438412   7.438412\n",
       "imgur      -6.572811   6.572811\n",
       "use        -6.431580   6.431580\n",
       "ideas      -6.352363   6.352363\n",
       "delicious  -5.801782   5.801782\n",
       "favorite   -5.504622   5.504622\n",
       "chef       -5.313138   5.313138\n",
       "heat       -5.254714   5.254714\n",
       "onions     -5.164636   5.164636\n",
       "great      -5.104719   5.104719"
      ]
     },
     "execution_count": 460,
     "metadata": {},
     "output_type": "execute_result"
    }
   ],
   "source": [
    "# making coeficients into a dataframe to plot them\n",
    "coef_df = pd.DataFrame(logreg.coef_, columns = tf.get_feature_names()).T.sort_values(by = 0).head(15)\n",
    "coef_df['abs'] = coef_df[0].abs()\n",
    "coef_df.sort_values(by = 'abs', ascending = False).head(15)"
   ]
  },
  {
   "cell_type": "code",
   "execution_count": 461,
   "metadata": {},
   "outputs": [
    {
     "data": {
      "image/png": "[encoded data removed]",
      "text/plain": [
       "<Figure size 720x720 with 1 Axes>"
      ]
     },
     "metadata": {
      "needs_background": "light"
     },
     "output_type": "display_data"
    }
   ],
   "source": [
    "# plotting most important coefficients: \n",
    "coef_df.sort_values(by = 'abs', ascending = False).head(15)[0].plot(kind = 'barh', figsize = (10,10), title = \"most \\\n",
    "important 15 coefficeints in our model, with respect to class: nutrition\".title(), fontsize = 15);"
   ]
  },
  {
   "cell_type": "markdown",
   "metadata": {},
   "source": [
    "## Extra Exploration, Tweaking, and Evaluation"
   ]
  },
  {
   "cell_type": "markdown",
   "metadata": {},
   "source": [
    "As it is, predict_proba has a threshold of 0.5, anything >=0.5 is classified in the positive class/the one class (here, nutrition, and anything less is classified in the negative class/the zero class (here, cooking). <br /> \n",
    "Say I wanted to minimize false positives (top right corner in the confusion matrix), to reduce number of \n",
    "cooking posts that get classified as nutrition. To do that, I would need to increase the threshold. <br /> A high false positives number means it's classifying more as positives. Therefore, to lower the FP, we need to increase the threshold. <br /> Doing this, I'm saying: don't flag more cooking posts as nutrition. <br /> we need to do that manually. "
   ]
  },
  {
   "cell_type": "code",
   "execution_count": 505,
   "metadata": {},
   "outputs": [],
   "source": [
    "# getting prediction probabilities from our winning model, only for the positive class \n",
    "probs_nut = tf_log_gs.predict_proba(X_test)[:,1]"
   ]
  },
  {
   "cell_type": "code",
   "execution_count": 507,
   "metadata": {},
   "outputs": [],
   "source": [
    "# setting the threshold, and getting the new predictions/classifications: \n",
    "def classify(thresh, probs_list):\n",
    "    \"\"\"\n",
    "    thresh: threshold of classification \n",
    "    probs_list: a list of predict_proba of only the class of interest. Must be worked outside the function \n",
    "    \"\"\"\n",
    "    preds_thresh = ['nutrition' if probs_list[i] >= thresh else 'Cooking' for i in range(len(probs_list))]\n",
    "    return preds_thresh"
   ]
  },
  {
   "cell_type": "code",
   "execution_count": 510,
   "metadata": {},
   "outputs": [
    {
     "data": {
      "text/html": [
       "<div>\n",
       "<style scoped>\n",
       "    .dataframe tbody tr th:only-of-type {\n",
       "        vertical-align: middle;\n",
       "    }\n",
       "\n",
       "    .dataframe tbody tr th {\n",
       "        vertical-align: top;\n",
       "    }\n",
       "\n",
       "    .dataframe thead th {\n",
       "        text-align: right;\n",
       "    }\n",
       "</style>\n",
       "<table border=\"1\" class=\"dataframe\">\n",
       "  <thead>\n",
       "    <tr style=\"text-align: right;\">\n",
       "      <th></th>\n",
       "      <th>Predicted Cooking</th>\n",
       "      <th>Predicted nutrition</th>\n",
       "    </tr>\n",
       "  </thead>\n",
       "  <tbody>\n",
       "    <tr>\n",
       "      <th>Actual Cooking</th>\n",
       "      <td>1049</td>\n",
       "      <td>10</td>\n",
       "    </tr>\n",
       "    <tr>\n",
       "      <th>Actual nutrition</th>\n",
       "      <td>66</td>\n",
       "      <td>976</td>\n",
       "    </tr>\n",
       "  </tbody>\n",
       "</table>\n",
       "</div>"
      ],
      "text/plain": [
       "                  Predicted Cooking  Predicted nutrition\n",
       "Actual Cooking                 1049                   10\n",
       "Actual nutrition                 66                  976"
      ]
     },
     "execution_count": 510,
     "metadata": {},
     "output_type": "execute_result"
    }
   ],
   "source": [
    "# getting the confusion matrix with the new threshold predictions:  \n",
    "pd.DataFrame(confusion_matrix(y_test, classify(0.9, probs_nut)), columns = col_names, index = index_names )\n",
    "# col_names, and index_names are defined above"
   ]
  },
  {
   "cell_type": "code",
   "execution_count": 511,
   "metadata": {},
   "outputs": [
    {
     "name": "stdout",
     "output_type": "stream",
     "text": [
      "              precision    recall  f1-score   support\n",
      "\n",
      "     Cooking       0.94      0.99      0.97      1059\n",
      "   nutrition       0.99      0.94      0.96      1042\n",
      "\n",
      "   micro avg       0.96      0.96      0.96      2101\n",
      "   macro avg       0.97      0.96      0.96      2101\n",
      "weighted avg       0.97      0.96      0.96      2101\n",
      "\n"
     ]
    }
   ],
   "source": [
    "# seeing the new classification report to check for precision: \n",
    "print(classification_report(y_test, classify(0.9, probs_nut)))"
   ]
  },
  {
   "cell_type": "markdown",
   "metadata": {},
   "source": [
    "We gained improvement in precision, but this means our flase negatives are higher (these are nutrition posts that are being classified as cooking). So if you're interested in reading almost every nutrition post, this is not helpful to you. "
   ]
  },
  {
   "cell_type": "markdown",
   "metadata": {},
   "source": [
    "#### Finally visualizing our model performance using a ROC curve"
   ]
  },
  {
   "cell_type": "code",
   "execution_count": 524,
   "metadata": {},
   "outputs": [
    {
     "data": {
      "image/png": "[encoded data removed]",
      "text/plain": [
       "<Figure size 432x432 with 1 Axes>"
      ]
     },
     "metadata": {
      "needs_background": "light"
     },
     "output_type": "display_data"
    }
   ],
   "source": [
    "# Drawing the ROC curve to visually evaluate our model\n",
    "from sklearn.metrics import roc_curve\n",
    "\n",
    "# to set up for ROC curve \n",
    "y_numerical = y_test.map({'nutrition' : 1 , 'Cooking' : 0})\n",
    "fpr, tpr, _ = roc_curve(y_numerical, probs_nut)\n",
    "\n",
    "plt.figure(figsize = (6,6))\n",
    "plt.plot(fpr, tpr);\n",
    "plt.plot([0,max(y_numerical)],[0, max(y_numerical)], '--'); # it takes only encoded numerical y\n",
    "plt.title('ROC curve for the TFDIF vectorizer with logistic regression'.title());\n",
    "plt.xlabel('false positive rate'.title());\n",
    "plt.ylabel('true positive rate'.title());"
   ]
  },
  {
   "cell_type": "markdown",
   "metadata": {},
   "source": [
    "## For a mere visual appeal,\n",
    "Creating an image of the most common words"
   ]
  },
  {
   "cell_type": "code",
   "execution_count": 66,
   "metadata": {},
   "outputs": [],
   "source": [
    "import wordcloud"
   ]
  },
  {
   "cell_type": "code",
   "execution_count": 90,
   "metadata": {},
   "outputs": [],
   "source": [
    "common_words = all_feature_df.sum().sort_values(ascending=False).head(20) # this is a series of words and their count\n",
    "list(common_words.index)\n",
    "common_words = ' '.join(list(common_words.index))"
   ]
  },
  {
   "cell_type": "code",
   "execution_count": 107,
   "metadata": {},
   "outputs": [
    {
     "data": {
      "image/png": "[encoded data removed]",
      "text/plain": [
       "<PIL.Image.Image image mode=RGB size=600x400 at 0x1A2B1F12E8>"
      ]
     },
     "execution_count": 107,
     "metadata": {},
     "output_type": "execute_result"
    }
   ],
   "source": [
    "wc = wordcloud.WordCloud(background_color='yellow', max_words=75, width=600, height =400)\n",
    "# adding stop words will put only the stop words, not eliminate them.\n",
    "cloud = wc.generate(common_words)\n",
    "cloud.to_image()"
   ]
  },
  {
   "cell_type": "code",
   "execution_count": null,
   "metadata": {},
   "outputs": [],
   "source": []
  }
 ],
 "metadata": {
  "kernelspec": {
   "display_name": "Python 3",
   "language": "python",
   "name": "python3"
  },
  "language_info": {
   "codemirror_mode": {
    "name": "ipython",
    "version": 3
   },
   "file_extension": ".py",
   "mimetype": "text/x-python",
   "name": "python",
   "nbconvert_exporter": "python",
   "pygments_lexer": "ipython3",
   "version": "3.6.8"
  }
 },
 "nbformat": 4,
 "nbformat_minor": 2
}
